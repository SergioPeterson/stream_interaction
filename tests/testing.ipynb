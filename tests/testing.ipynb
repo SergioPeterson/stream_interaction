{
 "cells": [
  {
   "cell_type": "code",
   "execution_count": 2,
   "metadata": {},
   "outputs": [
    {
     "name": "stdout",
     "output_type": "stream",
     "text": [
      "Event loop already running. Creating a new task.\n"
     ]
    },
    {
     "name": "stdout",
     "output_type": "stream",
     "text": [
      "Connected to TikTok Live as xlowqualitymemesx\n"
     ]
    }
   ],
   "source": [
    "from TikTokLive import TikTokLiveClient\n",
    "from TikTokLive.events import ConnectEvent, FollowEvent, GiftEvent, RoomUserSeqEvent\n",
    "import asyncio\n",
    "\n",
    "\n",
    "user = \"xlowqualitymemesx\"\n",
    "client = TikTokLiveClient(unique_id=\"@\" + user)\n",
    "\n",
    "\n",
    "@client.on(ConnectEvent)\n",
    "async def on_connect(event):\n",
    "    print(f\"Connected to TikTok Live as {client.unique_id}\")\n",
    "\n",
    "@client.on(FollowEvent)\n",
    "async def on_follow(event):\n",
    "    print(f\"New Follower: {event.user.unique_id}\")\n",
    "\n",
    "@client.on(GiftEvent)\n",
    "async def on_gift(event):\n",
    "    print(f\"{event.user.unique_id} sent {event.gift.count}x {event.gift.name}\")\n",
    "\n",
    "@client.on(RoomUserSeqEvent)\n",
    "async def on_viewers(event):\n",
    "    \"\"\"Tracks viewer count in real-time\"\"\"\n",
    "    print(f\"Current Viewers: {event.viewer_count}\")\n",
    "\n",
    "# Check if the event loop is already running\n",
    "def run_client():\n",
    "    try:\n",
    "        loop = asyncio.get_running_loop()\n",
    "    except RuntimeError:\n",
    "        loop = None\n",
    "\n",
    "    if loop and loop.is_running():\n",
    "        print(\"Event loop already running. Creating a new task.\")\n",
    "        asyncio.ensure_future(client.connect())  # Non-blocking\n",
    "    else:\n",
    "        print(\"Starting event loop.\")\n",
    "        asyncio.run(client.connect())  # Blocking\n",
    "\n",
    "# Start listening\n",
    "if __name__ == \"__main__\":\n",
    "    run_client()"
   ]
  },
  {
   "cell_type": "code",
   "execution_count": null,
   "metadata": {},
   "outputs": [],
   "source": []
  }
 ],
 "metadata": {
  "kernelspec": {
   "display_name": "stream_env",
   "language": "python",
   "name": "python3"
  },
  "language_info": {
   "codemirror_mode": {
    "name": "ipython",
    "version": 3
   },
   "file_extension": ".py",
   "mimetype": "text/x-python",
   "name": "python",
   "nbconvert_exporter": "python",
   "pygments_lexer": "ipython3",
   "version": "3.12.0"
  }
 },
 "nbformat": 4,
 "nbformat_minor": 2
}
